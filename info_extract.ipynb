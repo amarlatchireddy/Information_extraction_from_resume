{
 "cells": [
  {
   "cell_type": "code",
   "execution_count": 2,
   "metadata": {},
   "outputs": [],
   "source": [
    "import docx2txt\n",
    "\n",
    "temp = docx2txt.process(\"Amar_Resume.docx\")\n",
    "text = [line.replace('\\t',' ') for line in temp.split('\\n') if line]\n",
    "text=' '.join(text)"
   ]
  },
  {
   "cell_type": "code",
   "execution_count": 3,
   "metadata": {},
   "outputs": [],
   "source": [
    "import spacy\n",
    "from spacy.matcher import Matcher\n",
    "import re\n",
    "import docx2txt\n",
    "\n",
    "temp = docx2txt.process(\"Amar_Resume.docx\")\n",
    "text = [line.replace('\\t',' ') for line in temp.split('\\n') if line]\n",
    "text=' '.join(text)\n",
    "\n",
    "# load pre-trained model\n",
    "nlp = spacy.load('en_core_web_sm')\n",
    "\n",
    "# initialize matcher with a vocab\n",
    "matcher = Matcher(nlp.vocab)\n",
    "\n",
    "def extract_details(text):\n",
    "    nlp_text = nlp(text)\n",
    "    \n",
    "    # First name and Last name are always Proper Nouns\n",
    "    pattern = [{'POS': 'PROPN'}, {'POS': 'PROPN'}]\n",
    "    \n",
    "    matcher.add('NAME', None, pattern)\n",
    "    \n",
    "    matches = matcher(nlp_text)\n",
    "    for match_id, start, end in matches:\n",
    "        span = nlp_text[start:end]\n",
    "        print(\"Name:\",span.text)\n",
    "        break\n",
    "    phone = re.search(r'[\\+\\(]?[1-9][0-9 .\\-\\(\\)]{8,}[0-9]',text)\n",
    "    print(\"mobile:\",phone[0])\n",
    "    \n",
    "    address= re.search('([A-Z]{1}[a-z]+) ([0-9]){6}',text)\n",
    "    print(\"Address : \",address[0])\n",
    "    import pandas as pd\n",
    "    # removing stop words and implementing word tokenization\n",
    "    tokens = [token.text for token in nlp_text if not token.is_stop]\n",
    "    \n",
    "    # reading the csv file\n",
    "    data = pd.read_csv(\"skills.csv\") \n",
    "    \n",
    "    # extract values\n",
    "    skills = list(data.columns.values)\n",
    "    \n",
    "    skillset = []\n",
    "    \n",
    "    for token in tokens:\n",
    "        if token.lower() in skills:\n",
    "            skillset.append(token)\n",
    "    \n",
    "    # check for bi-grams and tri-grams\n",
    "    for token in nlp_text.noun_chunks:\n",
    "        token = token.text.lower().strip()\n",
    "        if token in skills:\n",
    "            skillset.append(token)\n",
    "    \n",
    "    print(\"SKills :\",[i.capitalize() for i in set([i.lower() for i in skillset])])\n",
    "    \n",
    "    PAN= re.search('(?m)([a-zA-Z])+([0-9])+.',text)\n",
    "    print(\"PAN NO:\",PAN[0])\n",
    "    "
   ]
  },
  {
   "cell_type": "code",
   "execution_count": 4,
   "metadata": {},
   "outputs": [
    {
     "name": "stdout",
     "output_type": "stream",
     "text": [
      "Name: Amar Latchireddy\n",
      "mobile: +919515152743\n",
      "Address :  Banglore 560027\n",
      "SKills : ['Python', 'Sqoop', 'Ml', 'Sql', 'Hbase', 'Css', 'Ecommerce', 'Content', 'Java', 'Html', 'Hadoop', 'Ai', 'Nlp', 'Algorithms', 'Programming', 'Pig']\n",
      "PAN NO: ALVPL9089A\n"
     ]
    }
   ],
   "source": [
    "extract_details(text)"
   ]
  },
  {
   "cell_type": "code",
   "execution_count": 5,
   "metadata": {},
   "outputs": [],
   "source": [
    "import re\n",
    "\n",
    "def extract_mobile_number(text):\n",
    "    phone = re.findall(r'[\\+\\(]?[1-9][0-9 .\\-\\(\\)]{8,}[0-9]',text)\n",
    "    \n",
    "    if phone:\n",
    "        number = ''.join(phone[0])\n",
    "        if len(number) > 10:\n",
    "            return  number\n",
    "        else:\n",
    "            return number"
   ]
  },
  {
   "cell_type": "code",
   "execution_count": 6,
   "metadata": {},
   "outputs": [
    {
     "data": {
      "text/plain": [
       "'+919515152743'"
      ]
     },
     "execution_count": 6,
     "metadata": {},
     "output_type": "execute_result"
    }
   ],
   "source": [
    "extract_mobile_number(text)"
   ]
  },
  {
   "cell_type": "code",
   "execution_count": 7,
   "metadata": {},
   "outputs": [],
   "source": [
    "import re\n",
    "\n",
    "def extract_email(email):\n",
    "    email = re.findall(\",([^@|\\s]+@[^@]+\\.[^@|\\s]+)\", email)\n",
    "    if email:\n",
    "        try:\n",
    "            return email[0].split()[0].strip(';')\n",
    "        except IndexError:\n",
    "            return None"
   ]
  },
  {
   "cell_type": "code",
   "execution_count": 8,
   "metadata": {},
   "outputs": [
    {
     "data": {
      "text/plain": [
       "'amarlatchireddy@gmail.com'"
      ]
     },
     "execution_count": 8,
     "metadata": {},
     "output_type": "execute_result"
    }
   ],
   "source": [
    "extract_email(text)"
   ]
  },
  {
   "cell_type": "code",
   "execution_count": 9,
   "metadata": {},
   "outputs": [],
   "source": [
    "import pandas as pd\n",
    "import spacy\n",
    "\n",
    "# load pre-trained model\n",
    "nlp = spacy.load('en_core_web_sm')\n",
    "\n",
    "def extract_skills(resume_text):\n",
    "    nlp_text = nlp(resume_text)\n",
    "\n",
    "    # removing stop words and implementing word tokenization\n",
    "    tokens = [token.text for token in nlp_text if not token.is_stop]\n",
    "    \n",
    "    # reading the csv file\n",
    "    data = pd.read_csv(\"skills.csv\") \n",
    "    \n",
    "    # extract values\n",
    "    skills = list(data.columns.values)\n",
    "    \n",
    "    skillset = []\n",
    "    \n",
    "    for token in tokens:\n",
    "        if token.lower() in skills:\n",
    "            skillset.append(token)\n",
    "    \n",
    "    # check for bi-grams and tri-grams\n",
    "    for token in nlp_text.noun_chunks:\n",
    "        token = token.text.lower().strip()\n",
    "        if token in skills:\n",
    "            skillset.append(token)\n",
    "    \n",
    "    return [i.capitalize() for i in set([i.lower() for i in skillset])]"
   ]
  },
  {
   "cell_type": "code",
   "execution_count": 10,
   "metadata": {},
   "outputs": [
    {
     "data": {
      "text/plain": [
       "['Python',\n",
       " 'Sqoop',\n",
       " 'Ml',\n",
       " 'Sql',\n",
       " 'Hbase',\n",
       " 'Css',\n",
       " 'Ecommerce',\n",
       " 'Content',\n",
       " 'Java',\n",
       " 'Html',\n",
       " 'Hadoop',\n",
       " 'Ai',\n",
       " 'Nlp',\n",
       " 'Algorithms',\n",
       " 'Programming',\n",
       " 'Pig']"
      ]
     },
     "execution_count": 10,
     "metadata": {},
     "output_type": "execute_result"
    }
   ],
   "source": [
    "extract_skills(text)"
   ]
  },
  {
   "cell_type": "code",
   "execution_count": 11,
   "metadata": {},
   "outputs": [],
   "source": [
    "import re\n",
    "import spacy\n",
    "from nltk.corpus import stopwords\n",
    "\n",
    "# load pre-trained model\n",
    "nlp = spacy.load('en_core_web_sm')\n",
    "\n",
    "# Grad all general stop words\n",
    "STOPWORDS = set(stopwords.words('english'))\n",
    "\n",
    "# Education Degrees\n",
    "EDUCATION = [\n",
    "            'BE','B.E.', 'B.E', 'BS', 'B.S', \n",
    "            'ME', 'M.E', 'M.E.', 'MS', 'M.S', \n",
    "            'BTECH', 'B.TECH', 'M.TECH', 'MTECH', \n",
    "            'SSC', 'HSC', 'CBSE', 'ICSE', 'X', 'XII','M.C.A','MCA','INTERMEDIATE','BSC','MATRICULATION','B.SC','B.S.C','BSC-(MPCS)','B.Sc(MPCS)','PH.D','MASTER OF COMPUTER APPILICATIONS'\n",
    "        ]\n",
    "\n",
    "def extract_education(resume_text):\n",
    "    nlp_text = nlp(resume_text)\n",
    "\n",
    "    # Sentence Tokenizer\n",
    "    nlp_text = [sent.string.strip() for sent in nlp_text.sents]\n",
    "\n",
    "    edu = {}\n",
    "    # Extract education degree\n",
    "    for index, text in enumerate(nlp_text):\n",
    "        for tex in text.split():\n",
    "            # Replace all special symbols\n",
    "            tex = re.sub(r'[?|$|.|!|,|-]', r'', tex)\n",
    "            if tex.upper() in EDUCATION and tex not in STOPWORDS:\n",
    "                edu[tex] = text + nlp_text[index + 1]\n",
    "\n",
    "    # Extract year\n",
    "    education = []\n",
    "    for key in edu.keys():\n",
    "        year = re.search(re.compile(r'(((20|19)(\\d{2})))'), edu[key])\n",
    "        if year:\n",
    "            education.append((key, ''.join(year[0])))\n",
    "        else:\n",
    "            education.append(key)\n",
    "    return education"
   ]
  },
  {
   "cell_type": "code",
   "execution_count": 12,
   "metadata": {},
   "outputs": [
    {
     "data": {
      "text/plain": [
       "'Amar Latchireddy EDUCATION M.C.A  SRI VENKATESWARA UNIVERSITY  –TIRUPATI Year of passing: 2019 | CGPA: 7.9 EDUCATION M.C.A  SRI VENKATESWARA UNIVERSITY  –TIRUPATI Year of passing: 2019 | CGPA: 7.9 IMDB REVIEW SENTIMENT CLASIFICATION using LSTM SEQUENCE CLASSIFICATION OF REVIEW USING LSTM Applied Embedding layer and Dropout layer. Trained using LSTM model | Accuracy achieved 86.54 Skills: Sequence Classification, NLP, LSTM IMDB REVIEW SENTIMENT CLASIFICATION using LSTM SEQUENCE CLASSIFICATION OF REVIEW USING LSTM Applied Embedding layer and Dropout layer. Trained using LSTM model | Accuracy achieved 86.54 Skills: Sequence Classification, NLP, LSTM I am seeking a machine learning role with a company that is both challenging and reward, where I can use my skills and knowledge to build state of the art models using cutting edge technologies. I am seeking a machine learning role with a company that is both challenging and reward, where I can use my skills and knowledge to build state of the art models using cutting edge technologies. AMAZON APPAREL RECOMMENDATION SYSTEMS RECOMMENDING SIMILAR APPARELS IN ECOMMERCE Applied Content based Recommendation approach Trained based on text and image features  Skills: Text Preprocessing , NLP, CNN AMAZON APPAREL RECOMMENDATION SYSTEMS RECOMMENDING SIMILAR APPARELS IN ECOMMERCE Applied Content based Recommendation approach Trained based on text and image features  Skills: Text Preprocessing , NLP, CNN STACK OVERFLOW: TAG PREDICTION SUGGEST THE TAGS BASED ON THE CONTENT THAT WAS THERE IN THE QUESTION POSTED ON STACKOVERFLOW. Applied different NLP techniques for text data to get vectors Trained using different ML models and LSTM model Skills: Multi-class Classification, NLP , ML algorithms, LSTM STACK OVERFLOW: TAG PREDICTION SUGGEST THE TAGS BASED ON THE CONTENT THAT WAS THERE IN THE QUESTION POSTED ON STACKOVERFLOW. Applied different NLP techniques for text data to get vectors Trained using different ML models and LSTM model Skills: Multi-class Classification, NLP , ML algorithms, LSTM PROJECTS AMAZON FOOD REVIEW PREDICTION PREDICTING POLARITY OF REVIEW, BASED ON TEXT DATA  Applied different NLP techniques for text data to get vectors Trained using different ML models and LSTM model Skills: Text Preprocessing, NLP , ML algorithms, LSTM PROJECTS AMAZON FOOD REVIEW PREDICTION PREDICTING POLARITY OF REVIEW, BASED ON TEXT DATA  Applied different NLP techniques for text data to get vectors Trained using different ML models and LSTM model Skills: Text Preprocessing, NLP , ML algorithms, LSTM BIG DATA HDFS,,HIVE, PIG,SQOOP, HBASE BIG DATA HDFS,,HIVE, PIG,SQOOP, HBASE DEEP LEARNING Neural Networks Convolution NN Recurrent NN (LSTM’s & GRU) DEEP LEARNING Neural Networks Convolution NN Recurrent NN (LSTM’s & GRU) MACHINE LEARNING Regression KNN, SVM Naïve Bayes Ensemble Models Cluster Analyses Natural Language Processing MACHINE LEARNING Regression KNN, SVM Naïve Bayes Ensemble Models Cluster Analyses Natural Language Processing SKILLS PROGRAMMING Python and iPython Notebook CORE JAVA, SQL HTML, CSS, SKILLS PROGRAMMING Python and iPython Notebook CORE JAVA, SQL HTML, CSS,amarlatchireddy@gmail.com | +919515152743 | 10/06/1995  PAN : ALVPL9089A Banglore 560027 BSC  | MPCS GOVT DEGREE COLLEGE   –TEKKALI Year of passing: 2016 | CGPA: 7.41 BSC  | MPCS GOVT DEGREE COLLEGE   –TEKKALI Year of passing: 2016 | CGPA: 7.41 EXTRA CURRICULAR ACTIVITIES  Worked as a volunteer for 104th Indian science congress   Attended IETE zonal seminar on Block Chain Technology National Service Scheme(NSS)  EXTRA CURRICULAR ACTIVITIES  Worked as a volunteer for 104th Indian science congress   Attended IETE zonal seminar on Block Chain Technology National Service Scheme(NSS)  PAPER PUBLICATIONS AN ADVANCED CONVOLUTIONAL NEURAL NETWORK (CNN)      MECHANISM TO IDENTIFY THE DRIVER DROWSINESS Published on http://ijamtes.org/VOL-9-ISSUE-04-2019-3/  s.no.385 Trained using different ML models, LSTM |  Accuracy achieved 98.9 Skills: Text Preprocessing, NLP , ML algorithms, LSTM PAPER PUBLICATIONS AN ADVANCED CONVOLUTIONAL NEURAL NETWORK (CNN)      MECHANISM TO IDENTIFY THE DRIVER DROWSINESS Published on http://ijamtes.org/VOL-9-ISSUE-04-2019-3/  s.no.385 Trained using different ML models, LSTM |  Accuracy achieved 98.9 Skills: Text Preprocessing, NLP , ML algorithms, LSTM ACADEMIC PROJECTS MULTILINGUAL SMS CLASSIFICATION using RNN CLASSIFING MULTI LANGUAGE SMS’s INTO SPAM OR HAM  Collected and labelled different language SMS’s Trained using different ML models, LSTM |  Accuracy achieved 98.9 Skills: Text Preprocessing, NLP , ML algorithms, LSTM ACADEMIC PROJECTS MULTILINGUAL SMS CLASSIFICATION using RNN CLASSIFING MULTI LANGUAGE SMS’s INTO SPAM OR HAM  Collected and labelled different language SMS’s Trained using different ML models, LSTM |  Accuracy achieved 98.9 Skills: Text Preprocessing, NLP , ML algorithms, LSTM INTERMEDIATE | MPC SRI VISWAJYOTHI JUNIOR COLLEGE – TEKKALI Year of passing: 2013 | Percentage: 77.1 INTERMEDIATE | MPC SRI VISWAJYOTHI JUNIOR COLLEGE – TEKKALI Year of passing: 2013 | Percentage: 77.1 MATRICULATION MOTHER THERESA HIGH SCHOOL  – TEKKALI Year of passing: 2011 | PERCENT: 81.6% MATRICULATION MOTHER THERESA HIGH SCHOOL  – TEKKALI Year of passing: 2011 | PERCENT: 81.6% COURSES & CERTIFICATIONS APPLIED AI COURSE By AAIC HYDERABAD COURSES & CERTIFICATIONS APPLIED AI COURSE By AAIC HYDERABAD HADOOP By NARESH IT  HYDERABAD HADOOP By NARESH IT  HYDERABAD I hereby declare that all the above information is true to my knowledge. I hereby declare that all the above information is true to my knowledge.Date:'"
      ]
     },
     "execution_count": 12,
     "metadata": {},
     "output_type": "execute_result"
    }
   ],
   "source": [
    "text\n"
   ]
  },
  {
   "cell_type": "code",
   "execution_count": 13,
   "metadata": {},
   "outputs": [
    {
     "data": {
      "text/plain": [
       "[('MCA', '2019'),\n",
       " ('BSC', '2016'),\n",
       " ('INTERMEDIATE', '2013'),\n",
       " ('MATRICULATION', '2011')]"
      ]
     },
     "execution_count": 13,
     "metadata": {},
     "output_type": "execute_result"
    }
   ],
   "source": [
    "extract_education(text)"
   ]
  },
  {
   "cell_type": "code",
   "execution_count": 14,
   "metadata": {},
   "outputs": [
    {
     "data": {
      "text/plain": [
       "'Amar Latchireddy EDUCATION M.C.A  SRI VENKATESWARA UNIVERSITY  –TIRUPATI Year of passing: 2019 | CGPA: 7.9 EDUCATION M.C.A  SRI VENKATESWARA UNIVERSITY  –TIRUPATI Year of passing: 2019 | CGPA: 7.9 IMDB REVIEW SENTIMENT CLASIFICATION using LSTM SEQUENCE CLASSIFICATION OF REVIEW USING LSTM Applied Embedding layer and Dropout layer. Trained using LSTM model | Accuracy achieved 86.54 Skills: Sequence Classification, NLP, LSTM IMDB REVIEW SENTIMENT CLASIFICATION using LSTM SEQUENCE CLASSIFICATION OF REVIEW USING LSTM Applied Embedding layer and Dropout layer. Trained using LSTM model | Accuracy achieved 86.54 Skills: Sequence Classification, NLP, LSTM I am seeking a machine learning role with a company that is both challenging and reward, where I can use my skills and knowledge to build state of the art models using cutting edge technologies. I am seeking a machine learning role with a company that is both challenging and reward, where I can use my skills and knowledge to build state of the art models using cutting edge technologies. AMAZON APPAREL RECOMMENDATION SYSTEMS RECOMMENDING SIMILAR APPARELS IN ECOMMERCE Applied Content based Recommendation approach Trained based on text and image features  Skills: Text Preprocessing , NLP, CNN AMAZON APPAREL RECOMMENDATION SYSTEMS RECOMMENDING SIMILAR APPARELS IN ECOMMERCE Applied Content based Recommendation approach Trained based on text and image features  Skills: Text Preprocessing , NLP, CNN STACK OVERFLOW: TAG PREDICTION SUGGEST THE TAGS BASED ON THE CONTENT THAT WAS THERE IN THE QUESTION POSTED ON STACKOVERFLOW. Applied different NLP techniques for text data to get vectors Trained using different ML models and LSTM model Skills: Multi-class Classification, NLP , ML algorithms, LSTM STACK OVERFLOW: TAG PREDICTION SUGGEST THE TAGS BASED ON THE CONTENT THAT WAS THERE IN THE QUESTION POSTED ON STACKOVERFLOW. Applied different NLP techniques for text data to get vectors Trained using different ML models and LSTM model Skills: Multi-class Classification, NLP , ML algorithms, LSTM PROJECTS AMAZON FOOD REVIEW PREDICTION PREDICTING POLARITY OF REVIEW, BASED ON TEXT DATA  Applied different NLP techniques for text data to get vectors Trained using different ML models and LSTM model Skills: Text Preprocessing, NLP , ML algorithms, LSTM PROJECTS AMAZON FOOD REVIEW PREDICTION PREDICTING POLARITY OF REVIEW, BASED ON TEXT DATA  Applied different NLP techniques for text data to get vectors Trained using different ML models and LSTM model Skills: Text Preprocessing, NLP , ML algorithms, LSTM BIG DATA HDFS,,HIVE, PIG,SQOOP, HBASE BIG DATA HDFS,,HIVE, PIG,SQOOP, HBASE DEEP LEARNING Neural Networks Convolution NN Recurrent NN (LSTM’s & GRU) DEEP LEARNING Neural Networks Convolution NN Recurrent NN (LSTM’s & GRU) MACHINE LEARNING Regression KNN, SVM Naïve Bayes Ensemble Models Cluster Analyses Natural Language Processing MACHINE LEARNING Regression KNN, SVM Naïve Bayes Ensemble Models Cluster Analyses Natural Language Processing SKILLS PROGRAMMING Python and iPython Notebook CORE JAVA, SQL HTML, CSS, SKILLS PROGRAMMING Python and iPython Notebook CORE JAVA, SQL HTML, CSS,amarlatchireddy@gmail.com | +919515152743 | 10/06/1995  PAN : ALVPL9089A Banglore 560027 BSC  | MPCS GOVT DEGREE COLLEGE   –TEKKALI Year of passing: 2016 | CGPA: 7.41 BSC  | MPCS GOVT DEGREE COLLEGE   –TEKKALI Year of passing: 2016 | CGPA: 7.41 EXTRA CURRICULAR ACTIVITIES  Worked as a volunteer for 104th Indian science congress   Attended IETE zonal seminar on Block Chain Technology National Service Scheme(NSS)  EXTRA CURRICULAR ACTIVITIES  Worked as a volunteer for 104th Indian science congress   Attended IETE zonal seminar on Block Chain Technology National Service Scheme(NSS)  PAPER PUBLICATIONS AN ADVANCED CONVOLUTIONAL NEURAL NETWORK (CNN)      MECHANISM TO IDENTIFY THE DRIVER DROWSINESS Published on http://ijamtes.org/VOL-9-ISSUE-04-2019-3/  s.no.385 Trained using different ML models, LSTM |  Accuracy achieved 98.9 Skills: Text Preprocessing, NLP , ML algorithms, LSTM PAPER PUBLICATIONS AN ADVANCED CONVOLUTIONAL NEURAL NETWORK (CNN)      MECHANISM TO IDENTIFY THE DRIVER DROWSINESS Published on http://ijamtes.org/VOL-9-ISSUE-04-2019-3/  s.no.385 Trained using different ML models, LSTM |  Accuracy achieved 98.9 Skills: Text Preprocessing, NLP , ML algorithms, LSTM ACADEMIC PROJECTS MULTILINGUAL SMS CLASSIFICATION using RNN CLASSIFING MULTI LANGUAGE SMS’s INTO SPAM OR HAM  Collected and labelled different language SMS’s Trained using different ML models, LSTM |  Accuracy achieved 98.9 Skills: Text Preprocessing, NLP , ML algorithms, LSTM ACADEMIC PROJECTS MULTILINGUAL SMS CLASSIFICATION using RNN CLASSIFING MULTI LANGUAGE SMS’s INTO SPAM OR HAM  Collected and labelled different language SMS’s Trained using different ML models, LSTM |  Accuracy achieved 98.9 Skills: Text Preprocessing, NLP , ML algorithms, LSTM INTERMEDIATE | MPC SRI VISWAJYOTHI JUNIOR COLLEGE – TEKKALI Year of passing: 2013 | Percentage: 77.1 INTERMEDIATE | MPC SRI VISWAJYOTHI JUNIOR COLLEGE – TEKKALI Year of passing: 2013 | Percentage: 77.1 MATRICULATION MOTHER THERESA HIGH SCHOOL  – TEKKALI Year of passing: 2011 | PERCENT: 81.6% MATRICULATION MOTHER THERESA HIGH SCHOOL  – TEKKALI Year of passing: 2011 | PERCENT: 81.6% COURSES & CERTIFICATIONS APPLIED AI COURSE By AAIC HYDERABAD COURSES & CERTIFICATIONS APPLIED AI COURSE By AAIC HYDERABAD HADOOP By NARESH IT  HYDERABAD HADOOP By NARESH IT  HYDERABAD I hereby declare that all the above information is true to my knowledge. I hereby declare that all the above information is true to my knowledge.Date:'"
      ]
     },
     "execution_count": 14,
     "metadata": {},
     "output_type": "execute_result"
    }
   ],
   "source": [
    "text"
   ]
  },
  {
   "cell_type": "code",
   "execution_count": 15,
   "metadata": {},
   "outputs": [
    {
     "name": "stdout",
     "output_type": "stream",
     "text": [
      "PAN NO: ALVPL9089A\n"
     ]
    }
   ],
   "source": [
    "PAN= re.search('(?m)([a-zA-Z])+([0-9])+.',text)\n",
    "print(\"PAN NO:\",PAN[0])"
   ]
  },
  {
   "cell_type": "code",
   "execution_count": 16,
   "metadata": {},
   "outputs": [
    {
     "name": "stdout",
     "output_type": "stream",
     "text": [
      "Address :  Banglore 560027\n"
     ]
    }
   ],
   "source": [
    "address= re.search('([A-Z]{1}[a-z]+) ([0-9]){6}',text)\n",
    "print(\"Address : \",address[0])"
   ]
  },
  {
   "cell_type": "code",
   "execution_count": 17,
   "metadata": {},
   "outputs": [],
   "source": [
    "def extract_details(text):\n",
    "    nlp_text = nlp(text)\n",
    "    \n",
    "    # First name and Last name are always Proper Nouns\n",
    "    pattern = [{'POS': 'PROPN'}, {'POS': 'PROPN'}]\n",
    "    \n",
    "    matcher.add('NAME', None, pattern)\n",
    "    \n",
    "    matches = matcher(nlp_text)\n",
    "    \n",
    "    for match_id, start, end in matches:\n",
    "        span = nlp_text[start:end]\n",
    "        return (print (\"Name:\",span.text))\n",
    "    "
   ]
  },
  {
   "cell_type": "code",
   "execution_count": 18,
   "metadata": {},
   "outputs": [
    {
     "name": "stdout",
     "output_type": "stream",
     "text": [
      "Name: Amar Latchireddy\n"
     ]
    }
   ],
   "source": [
    "extract_details(text)"
   ]
  },
  {
   "cell_type": "code",
   "execution_count": null,
   "metadata": {},
   "outputs": [],
   "source": []
  }
 ],
 "metadata": {
  "kernelspec": {
   "display_name": "Python 3",
   "language": "python",
   "name": "python3"
  },
  "language_info": {
   "codemirror_mode": {
    "name": "ipython",
    "version": 3
   },
   "file_extension": ".py",
   "mimetype": "text/x-python",
   "name": "python",
   "nbconvert_exporter": "python",
   "pygments_lexer": "ipython3",
   "version": "3.7.3"
  }
 },
 "nbformat": 4,
 "nbformat_minor": 2
}
